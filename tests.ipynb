{
 "cells": [
  {
   "cell_type": "code",
   "execution_count": null,
   "id": "0c01c045-c416-49d0-938c-ee5fc86e1fbf",
   "metadata": {},
   "outputs": [],
   "source": [
    "from jupyterworkflow.data import get_data\n",
    "import pandas as pd\n",
    "\n",
    "def test_get_data():\n",
    "    data = get_data()\n",
    "    assert all(data.columns == ['Total', 'West', 'East'])\n",
    "    assert isinstance(data.index, pd.DatetimeIndex)"
   ]
  },
  {
   "cell_type": "code",
   "execution_count": 8,
   "id": "9989de31-1a02-41b5-ac1c-995775ed49b1",
   "metadata": {},
   "outputs": [
    {
     "name": "stderr",
     "output_type": "stream",
     "text": [
      "/home/gomez/tests/test_jupyter/jupyterworkflow/data.py:10: UserWarning: Could not infer format, so each element will be parsed individually, falling back to `dateutil`. To ensure parsing is consistent and as-expected, please specify a format.\n",
      "  data = pd.read_csv(filename, index_col='Date', parse_dates=True)\n"
     ]
    }
   ],
   "source": [
    "test_get_data()"
   ]
  },
  {
   "cell_type": "code",
   "execution_count": null,
   "id": "0d93d7a3-85f4-45d2-b4a5-fd8977e6dcbc",
   "metadata": {},
   "outputs": [],
   "source": [
    "data = pd.read_csv(filename, index_col='Date')\n",
    "\n",
    "try:\n",
    "    data.index = pd.to_datetime(data.index, format='@m/@d@Y @H:@M:@S @p')\n",
    "except TypeError:\n",
    "    data.index = pd.to_datetime(data.index)"
   ]
  }
 ],
 "metadata": {
  "kernelspec": {
   "display_name": "Python 3 (ipykernel)",
   "language": "python",
   "name": "python3"
  },
  "language_info": {
   "codemirror_mode": {
    "name": "ipython",
    "version": 3
   },
   "file_extension": ".py",
   "mimetype": "text/x-python",
   "name": "python",
   "nbconvert_exporter": "python",
   "pygments_lexer": "ipython3",
   "version": "3.8.10"
  }
 },
 "nbformat": 4,
 "nbformat_minor": 5
}
